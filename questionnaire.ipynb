{
 "cells": [
  {
   "cell_type": "code",
   "execution_count": 1,
   "metadata": {},
   "outputs": [],
   "source": [
    "# This notebook calculates the average of top 125 salaries \n",
    "# of MLB players for the 2016 season. The first step is to \n",
    "# retrieve the data from the web.\n",
    "\n",
    "import requests\n",
    "from bs4 import BeautifulSoup\n",
    "\n",
    "URL = \"https://questionnaire-148920.appspot.com/swe/data.html\"\n",
    "page = requests.get(URL)\n",
    "soup = BeautifulSoup(page.content, \"html.parser\")"
   ]
  },
  {
   "cell_type": "code",
   "execution_count": 3,
   "metadata": {},
   "outputs": [],
   "source": [
    "# Helper functions for validating and parsing the raw data\n",
    "\n",
    "\n",
    "def convert_salary(s):\n",
    "    \"\"\"\n",
    "    Converts a string representation of a dollar amount into an integer\n",
    "    \n",
    "    Parameters:\n",
    "        s (string): String representation of a dollar-denominated salary\n",
    "    \n",
    "    Returns:\n",
    "        int: Salary converted into an integer.\n",
    "    \n",
    "    Raises:\n",
    "        ValueError: input string does not represent a valid dollar amount\n",
    "    \"\"\"\n",
    "    s = s.replace(\"$\", \"\").replace(\",\", \"\")\n",
    "    \n",
    "    if not s.isdigit():\n",
    "        raise ValueError(\"{} is not a valid salary\".format(s))\n",
    "\n",
    "    return int(s)\n",
    "\n",
    "\n",
    "def validate_salary(row):\n",
    "    \"\"\"\n",
    "    Checks whether the salary row data is in proper format.\n",
    "    \n",
    "    Parameters:\n",
    "        row (list): List contain player name, salary, year, and level\n",
    "    \n",
    "    Returns:\n",
    "        (boolean): Whether the row was successfully validated. \n",
    "    \"\"\"\n",
    "    # We expect every row to have the form [player, salary, year, level]\n",
    "    if len(row) != 4:\n",
    "        return False\n",
    "    \n",
    "    player, salary, year, level = row\n",
    "    \n",
    "    # We should not have any empty data\n",
    "    # or invalid data formats. We are also\n",
    "    # only interested in 2016 MLB salaries.\n",
    "    if any([x == \"\" for x in row]):\n",
    "        return False\n",
    "    \n",
    "    if year != \"2016\" or level != \"MLB\":\n",
    "        return False\n",
    "    \n",
    "    try:\n",
    "        convert_salary(salary)\n",
    "    except ValueError as e:\n",
    "        return False\n",
    "    \n",
    "    return True"
   ]
  },
  {
   "cell_type": "code",
   "execution_count": 7,
   "metadata": {},
   "outputs": [],
   "source": [
    "# Now we parse the raw data into usable format.\n",
    "\n",
    "from collections import namedtuple\n",
    "\n",
    "\n",
    "Salary = namedtuple(\"Salary\", [\"player\", \"salary\", \"year\", \"level\"])\n",
    "\n",
    "salaries_table = soup.find(id=\"salaries-table\")\n",
    "salaries_rows = salaries_table.find_all(\"tr\")\n",
    "salaries = []\n",
    "invalid_data = []\n",
    "\n",
    "for tr in salaries_rows:\n",
    "    td = tr.find_all(\"td\")\n",
    "    row = [x.text for x in td]\n",
    "    \n",
    "    if not validate_salary(row):\n",
    "        invalid_data.append(row)\n",
    "    else:\n",
    "        player, salary, year, level = row\n",
    "        salary = int(salary.replace(\"$\", \"\").replace(\",\", \"\"))\n",
    "        salaries.append(Salary(player, salary, year, level))\n",
    "\n",
    "salaries.sort(reverse=True, key=lambda x: x.salary)"
   ]
  },
  {
   "cell_type": "code",
   "execution_count": 5,
   "metadata": {},
   "outputs": [
    {
     "name": "stdout",
     "output_type": "stream",
     "text": [
      "16223194.144\n"
     ]
    }
   ],
   "source": [
    "# Generate the average of the top 125 salaries\n",
    "TOP_COUNT = 125\n",
    "\n",
    "if len(salaries) < TOP_COUNT:\n",
    "    print(\"Insufficient data\")\n",
    "\n",
    "average = sum([x.salary for x in salaries[:TOP_COUNT]]) / TOP_COUNT\n",
    "\n",
    "print(average)\n",
    "    \n",
    "    \n",
    "    \n",
    "    \n",
    "    \n",
    "    \n",
    "    \n",
    "    \n",
    "    "
   ]
  },
  {
   "cell_type": "code",
   "execution_count": null,
   "metadata": {},
   "outputs": [],
   "source": [
    "# Display a chart of the top 125 salaries\n",
    "import plotly.express as px\n",
    "\n"
   ]
  }
 ],
 "metadata": {
  "kernelspec": {
   "display_name": "Python 3",
   "language": "python",
   "name": "python3"
  },
  "language_info": {
   "codemirror_mode": {
    "name": "ipython",
    "version": 3
   },
   "file_extension": ".py",
   "mimetype": "text/x-python",
   "name": "python",
   "nbconvert_exporter": "python",
   "pygments_lexer": "ipython3",
   "version": "3.8.2"
  }
 },
 "nbformat": 4,
 "nbformat_minor": 4
}
