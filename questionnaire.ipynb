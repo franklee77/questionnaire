{
 "cells": [
  {
   "cell_type": "code",
   "execution_count": 50,
   "metadata": {},
   "outputs": [],
   "source": [
    "# This notebook calculates the average of top 125 salaries \n",
    "# of MLB players for the 2016 season. The first step is to \n",
    "# retrieve the data from the web.\n",
    "\n",
    "import requests\n",
    "from bs4 import BeautifulSoup\n",
    "\n",
    "URL = \"https://questionnaire-148920.appspot.com/swe/data.html\"\n",
    "page = requests.get(URL)\n",
    "soup = BeautifulSoup(page.content, \"html.parser\")"
   ]
  },
  {
   "cell_type": "code",
   "execution_count": 51,
   "metadata": {},
   "outputs": [],
   "source": [
    "# Helper functions for validating and parsing the raw data\n",
    "\n",
    "\n",
    "def convert_salary(s):\n",
    "    \"\"\"\n",
    "    Converts a string representation of a dollar amount into an integer\n",
    "    \n",
    "    Parameters:\n",
    "        s (string): String representation of a dollar-denominated salary\n",
    "    \n",
    "    Returns:\n",
    "        int: Salary converted into an integer.\n",
    "    \n",
    "    Raises:\n",
    "        ValueError: input string does not represent a valid dollar amount\n",
    "    \"\"\"\n",
    "    s = s.replace(\"$\", \"\").replace(\",\", \"\")\n",
    "    \n",
    "    if not s.isdigit():\n",
    "        raise ValueError(\"{} is not a valid salary\".format(s))\n",
    "\n",
    "    return int(s)\n",
    "\n",
    "\n",
    "def validate_salary(row):\n",
    "    \"\"\"\n",
    "    Checks whether the salary row data is in proper format.\n",
    "    \n",
    "    Parameters:\n",
    "        row (list): List contain player name, salary, year, and level\n",
    "    \n",
    "    Returns:\n",
    "        (boolean): Whether the row was successfully validated. \n",
    "    \"\"\"\n",
    "    # We expect every row to have the form [player, salary, year, level]\n",
    "    if len(row) != 4:\n",
    "        return False\n",
    "    \n",
    "    player, salary, year, level = row\n",
    "    \n",
    "    # We should not have any empty data\n",
    "    # or invalid data formats. We are also\n",
    "    # only interested in 2016 MLB salaries.\n",
    "    if any([x == \"\" for x in row]):\n",
    "        return False\n",
    "    \n",
    "    if year != \"2016\" or level != \"MLB\":\n",
    "        return False\n",
    "    \n",
    "    try:\n",
    "        convert_salary(salary)\n",
    "    except ValueError as e:\n",
    "        return False\n",
    "    \n",
    "    return True"
   ]
  },
  {
   "cell_type": "code",
   "execution_count": 52,
   "metadata": {},
   "outputs": [],
   "source": [
    "# Now we parse the raw data into usable format.\n",
    "\n",
    "from collections import namedtuple\n",
    "\n",
    "\n",
    "Salary = namedtuple(\"Salary\", [\"player\", \"salary\", \"year\", \"level\"])\n",
    "\n",
    "salaries_table = soup.find(id=\"salaries-table\")\n",
    "salaries_rows = salaries_table.find_all(\"tr\")\n",
    "salaries = []\n",
    "invalid_data = []\n",
    "\n",
    "for tr in salaries_rows:\n",
    "    td = tr.find_all(\"td\")\n",
    "    row = [x.text for x in td]\n",
    "    \n",
    "    if not validate_salary(row):\n",
    "        invalid_data.append(row)\n",
    "    else:\n",
    "        player, salary, year, level = row\n",
    "        salary = int(salary.replace(\"$\", \"\").replace(\",\", \"\"))\n",
    "        salaries.append(Salary(player, salary, year, level))\n",
    "\n",
    "salaries.sort(reverse=True, key=lambda x: x.salary)"
   ]
  },
  {
   "cell_type": "code",
   "execution_count": 54,
   "metadata": {},
   "outputs": [
    {
     "data": {
      "application/vnd.plotly.v1+json": {
       "config": {
        "plotlyServerURL": "https://plot.ly"
       },
       "data": [
        {
         "alignmentgroup": "True",
         "hovertemplate": "Player=%{x}<br>2016 Annual Salary (USD)=%{marker.color}<extra></extra>",
         "legendgroup": "",
         "marker": {
          "color": [
           34571429,
           34000000,
           30000000,
           28410000,
           28000000,
           28000000,
           25857143,
           25000000,
           25000000,
           25000000,
           24000000,
           24000000,
           23500000,
           23125000,
           23000000,
           22750000,
           22142857,
           22125000,
           22000000,
           22000000,
           21857143,
           21750000,
           21607143,
           21571429,
           21142857,
           21118782,
           21000000,
           21000000,
           20833333,
           20777777,
           20500000,
           20200000,
           20125000,
           20000000,
           20000000,
           20000000,
           20000000,
           20000000,
           19500000,
           18500000,
           18000000,
           18000000,
           18000000,
           18000000,
           18000000,
           17600000,
           17500000,
           17428571,
           17000000,
           17000000,
           16800000,
           16333333,
           16083333,
           16050000,
           16000000,
           16000000,
           16000000,
           15833333,
           15800000,
           15800000,
           15800000,
           15750000,
           15250000,
           15000000,
           15000000,
           15000000,
           15000000,
           14250000,
           14200000,
           14000000,
           14000000,
           14000000,
           14000000,
           14000000,
           14000000,
           13666667,
           13500000,
           13500000,
           13208333,
           13200000,
           13125000,
           13000000,
           13000000,
           13000000,
           13000000,
           13000000,
           13000000,
           12666667,
           12541667,
           12500000,
           12500000,
           12500000,
           12500000,
           12359375,
           12100000,
           12100000,
           12000000,
           12000000,
           12000000,
           12000000,
           12000000,
           11666667,
           11666667,
           11650000,
           11500000,
           11500000,
           11325000,
           11271429,
           11250000,
           11250000,
           11000000,
           11000000,
           11000000,
           11000000,
           11000000,
           11000000,
           10800000,
           10700000,
           10650000,
           10550000,
           10500000,
           10400000,
           10000000,
           10000000,
           10000000
          ],
          "coloraxis": "coloraxis"
         },
         "name": "",
         "offsetgroup": "",
         "orientation": "v",
         "showlegend": false,
         "textposition": "auto",
         "type": "bar",
         "x": [
          "Kershaw, Clayton",
          "Greinke, Zack",
          "Price, David",
          "Hamilton, Josh",
          "Cabrera, Miguel",
          "Verlander, Justin",
          "Hernandez, Felix",
          "Howard, Ryan",
          "Pujols, Albert",
          "Sabathia, CC",
          "Cano, Robinson",
          "Fielder, Prince",
          "Hamels, Cole",
          "Teixeira, Mark",
          "Mauer, Joe",
          "Ramirez, Hanley",
          "Scherzer, Max",
          "Upton, Justin",
          "Reyes, Jose",
          "Tanaka, Masahiro",
          "Gonzalez, Adrian",
          "Kemp, Matt",
          "Crawford, Carl",
          "Werth, Jayson",
          "Ellsbury, Jacoby",
          "Davis, Chris",
          "Rodriguez, Alex",
          "Shields, James",
          "Cain, Matt",
          "Posey, Buster",
          "Wilson, C.J.",
          "Weaver, Jered",
          "Porcello, Rick",
          "Braun, Ryan",
          "Choo, Shin-Soo",
          "Tulowitzki, Troy",
          "Votto, Joey",
          "Wright, David",
          "Wainwright, Adam",
          "Pence, Hunter",
          "Bailey, Homer",
          "Beltre, Adrian",
          "Ethier, Andre",
          "Martinez, Victor",
          "Zimmermann, Jordan",
          "Sandoval, Pablo",
          "Heyward, Jason",
          "Gonzalez, Carlos",
          "Holliday, Matt",
          "McCann, Brian",
          "Sanchez, Anibal",
          "Jones, Adam",
          "Trout, Mike",
          "Upton, Melvin Jr.",
          "Granderson, Curtis",
          "Lackey, John",
          "Ortiz, David",
          "Cueto, Johnny",
          "Anderson, Brett",
          "Rasmus, Colby",
          "Wieters, Matt",
          "Danks, John",
          "Andrus, Elvis",
          "Beltran, Carlos",
          "Martin, Russell",
          "Peavy, Jake",
          "Swisher, Nick",
          "Cruz, Nelson",
          "Molina, Yadier",
          "Bautista, Jose",
          "Bourn, Michael",
          "Cabrera, Melky",
          "Kinsler, Ian",
          "Montero, Miguel",
          "Zimmerman, Ryan",
          "Liriano, Francisco",
          "Gardner, Brett",
          "Santana, Ervin",
          "McCutchen, Andrew",
          "Harrison, Matt",
          "Pedroia, Dustin",
          "Buchholz, Clay",
          "Headley, Chase",
          "Jackson, Edwin",
          "Jimenez, Ubaldo",
          "LaRoche, Adam",
          "Phillips, Brandon",
          "Kazmir, Scott",
          "Bruce, Jay",
          "De La Rosa, Jorge",
          "Garza, Matt",
          "McCarthy, Brandon",
          "Peralta, Jhonny",
          "Freeman, Freddie",
          "Gonzalez, Gio",
          "Longoria, Evan",
          "Dickey, R.A.",
          "Gordon, Alex",
          "Hill, Aaron",
          "Leake, Mike",
          "Nolasco, Ricky",
          "Abreu, Jose",
          "Butler, Billy",
          "Donaldson, Josh",
          "Estrada, Marco",
          "Garcia, Jaime",
          "Chapman, Aroldis",
          "Castillo, Rusney",
          "Kimbrel, Craig",
          "Pagan, Angel",
          "Crisp, Covelli",
          "Iwakuma, Hisashi",
          "Markakis, Nick",
          "Papelbon, Jonathan",
          "Prado, Martin",
          "Robertson, David",
          "Samardzija, Jeff",
          "Arrieta, Jake",
          "Jansen, Kenley",
          "Walker, Neil",
          "Zobrist, Ben",
          "Strasburg, Stephen",
          "Darvish, Yu",
          "Encarnacion, Edwin",
          "Happ, J.A."
         ],
         "xaxis": "x",
         "y": [
          34571429,
          34000000,
          30000000,
          28410000,
          28000000,
          28000000,
          25857143,
          25000000,
          25000000,
          25000000,
          24000000,
          24000000,
          23500000,
          23125000,
          23000000,
          22750000,
          22142857,
          22125000,
          22000000,
          22000000,
          21857143,
          21750000,
          21607143,
          21571429,
          21142857,
          21118782,
          21000000,
          21000000,
          20833333,
          20777777,
          20500000,
          20200000,
          20125000,
          20000000,
          20000000,
          20000000,
          20000000,
          20000000,
          19500000,
          18500000,
          18000000,
          18000000,
          18000000,
          18000000,
          18000000,
          17600000,
          17500000,
          17428571,
          17000000,
          17000000,
          16800000,
          16333333,
          16083333,
          16050000,
          16000000,
          16000000,
          16000000,
          15833333,
          15800000,
          15800000,
          15800000,
          15750000,
          15250000,
          15000000,
          15000000,
          15000000,
          15000000,
          14250000,
          14200000,
          14000000,
          14000000,
          14000000,
          14000000,
          14000000,
          14000000,
          13666667,
          13500000,
          13500000,
          13208333,
          13200000,
          13125000,
          13000000,
          13000000,
          13000000,
          13000000,
          13000000,
          13000000,
          12666667,
          12541667,
          12500000,
          12500000,
          12500000,
          12500000,
          12359375,
          12100000,
          12100000,
          12000000,
          12000000,
          12000000,
          12000000,
          12000000,
          11666667,
          11666667,
          11650000,
          11500000,
          11500000,
          11325000,
          11271429,
          11250000,
          11250000,
          11000000,
          11000000,
          11000000,
          11000000,
          11000000,
          11000000,
          10800000,
          10700000,
          10650000,
          10550000,
          10500000,
          10400000,
          10000000,
          10000000,
          10000000
         ],
         "yaxis": "y"
        }
       ],
       "layout": {
        "barmode": "relative",
        "coloraxis": {
         "colorbar": {
          "title": {
           "text": "2016 Annual Salary (USD)"
          }
         },
         "colorscale": [
          [
           0,
           "rgb(237, 217, 163)"
          ],
          [
           0.16666666666666666,
           "rgb(246, 169, 122)"
          ],
          [
           0.3333333333333333,
           "rgb(250, 120, 118)"
          ],
          [
           0.5,
           "rgb(234, 79, 136)"
          ],
          [
           0.6666666666666666,
           "rgb(192, 54, 157)"
          ],
          [
           0.8333333333333334,
           "rgb(135, 44, 162)"
          ],
          [
           1,
           "rgb(75, 41, 145)"
          ]
         ]
        },
        "height": 800,
        "legend": {
         "tracegroupgap": 0
        },
        "template": {
         "data": {
          "bar": [
           {
            "error_x": {
             "color": "#2a3f5f"
            },
            "error_y": {
             "color": "#2a3f5f"
            },
            "marker": {
             "line": {
              "color": "#E5ECF6",
              "width": 0.5
             }
            },
            "type": "bar"
           }
          ],
          "barpolar": [
           {
            "marker": {
             "line": {
              "color": "#E5ECF6",
              "width": 0.5
             }
            },
            "type": "barpolar"
           }
          ],
          "carpet": [
           {
            "aaxis": {
             "endlinecolor": "#2a3f5f",
             "gridcolor": "white",
             "linecolor": "white",
             "minorgridcolor": "white",
             "startlinecolor": "#2a3f5f"
            },
            "baxis": {
             "endlinecolor": "#2a3f5f",
             "gridcolor": "white",
             "linecolor": "white",
             "minorgridcolor": "white",
             "startlinecolor": "#2a3f5f"
            },
            "type": "carpet"
           }
          ],
          "choropleth": [
           {
            "colorbar": {
             "outlinewidth": 0,
             "ticks": ""
            },
            "type": "choropleth"
           }
          ],
          "contour": [
           {
            "colorbar": {
             "outlinewidth": 0,
             "ticks": ""
            },
            "colorscale": [
             [
              0,
              "#0d0887"
             ],
             [
              0.1111111111111111,
              "#46039f"
             ],
             [
              0.2222222222222222,
              "#7201a8"
             ],
             [
              0.3333333333333333,
              "#9c179e"
             ],
             [
              0.4444444444444444,
              "#bd3786"
             ],
             [
              0.5555555555555556,
              "#d8576b"
             ],
             [
              0.6666666666666666,
              "#ed7953"
             ],
             [
              0.7777777777777778,
              "#fb9f3a"
             ],
             [
              0.8888888888888888,
              "#fdca26"
             ],
             [
              1,
              "#f0f921"
             ]
            ],
            "type": "contour"
           }
          ],
          "contourcarpet": [
           {
            "colorbar": {
             "outlinewidth": 0,
             "ticks": ""
            },
            "type": "contourcarpet"
           }
          ],
          "heatmap": [
           {
            "colorbar": {
             "outlinewidth": 0,
             "ticks": ""
            },
            "colorscale": [
             [
              0,
              "#0d0887"
             ],
             [
              0.1111111111111111,
              "#46039f"
             ],
             [
              0.2222222222222222,
              "#7201a8"
             ],
             [
              0.3333333333333333,
              "#9c179e"
             ],
             [
              0.4444444444444444,
              "#bd3786"
             ],
             [
              0.5555555555555556,
              "#d8576b"
             ],
             [
              0.6666666666666666,
              "#ed7953"
             ],
             [
              0.7777777777777778,
              "#fb9f3a"
             ],
             [
              0.8888888888888888,
              "#fdca26"
             ],
             [
              1,
              "#f0f921"
             ]
            ],
            "type": "heatmap"
           }
          ],
          "heatmapgl": [
           {
            "colorbar": {
             "outlinewidth": 0,
             "ticks": ""
            },
            "colorscale": [
             [
              0,
              "#0d0887"
             ],
             [
              0.1111111111111111,
              "#46039f"
             ],
             [
              0.2222222222222222,
              "#7201a8"
             ],
             [
              0.3333333333333333,
              "#9c179e"
             ],
             [
              0.4444444444444444,
              "#bd3786"
             ],
             [
              0.5555555555555556,
              "#d8576b"
             ],
             [
              0.6666666666666666,
              "#ed7953"
             ],
             [
              0.7777777777777778,
              "#fb9f3a"
             ],
             [
              0.8888888888888888,
              "#fdca26"
             ],
             [
              1,
              "#f0f921"
             ]
            ],
            "type": "heatmapgl"
           }
          ],
          "histogram": [
           {
            "marker": {
             "colorbar": {
              "outlinewidth": 0,
              "ticks": ""
             }
            },
            "type": "histogram"
           }
          ],
          "histogram2d": [
           {
            "colorbar": {
             "outlinewidth": 0,
             "ticks": ""
            },
            "colorscale": [
             [
              0,
              "#0d0887"
             ],
             [
              0.1111111111111111,
              "#46039f"
             ],
             [
              0.2222222222222222,
              "#7201a8"
             ],
             [
              0.3333333333333333,
              "#9c179e"
             ],
             [
              0.4444444444444444,
              "#bd3786"
             ],
             [
              0.5555555555555556,
              "#d8576b"
             ],
             [
              0.6666666666666666,
              "#ed7953"
             ],
             [
              0.7777777777777778,
              "#fb9f3a"
             ],
             [
              0.8888888888888888,
              "#fdca26"
             ],
             [
              1,
              "#f0f921"
             ]
            ],
            "type": "histogram2d"
           }
          ],
          "histogram2dcontour": [
           {
            "colorbar": {
             "outlinewidth": 0,
             "ticks": ""
            },
            "colorscale": [
             [
              0,
              "#0d0887"
             ],
             [
              0.1111111111111111,
              "#46039f"
             ],
             [
              0.2222222222222222,
              "#7201a8"
             ],
             [
              0.3333333333333333,
              "#9c179e"
             ],
             [
              0.4444444444444444,
              "#bd3786"
             ],
             [
              0.5555555555555556,
              "#d8576b"
             ],
             [
              0.6666666666666666,
              "#ed7953"
             ],
             [
              0.7777777777777778,
              "#fb9f3a"
             ],
             [
              0.8888888888888888,
              "#fdca26"
             ],
             [
              1,
              "#f0f921"
             ]
            ],
            "type": "histogram2dcontour"
           }
          ],
          "mesh3d": [
           {
            "colorbar": {
             "outlinewidth": 0,
             "ticks": ""
            },
            "type": "mesh3d"
           }
          ],
          "parcoords": [
           {
            "line": {
             "colorbar": {
              "outlinewidth": 0,
              "ticks": ""
             }
            },
            "type": "parcoords"
           }
          ],
          "pie": [
           {
            "automargin": true,
            "type": "pie"
           }
          ],
          "scatter": [
           {
            "marker": {
             "colorbar": {
              "outlinewidth": 0,
              "ticks": ""
             }
            },
            "type": "scatter"
           }
          ],
          "scatter3d": [
           {
            "line": {
             "colorbar": {
              "outlinewidth": 0,
              "ticks": ""
             }
            },
            "marker": {
             "colorbar": {
              "outlinewidth": 0,
              "ticks": ""
             }
            },
            "type": "scatter3d"
           }
          ],
          "scattercarpet": [
           {
            "marker": {
             "colorbar": {
              "outlinewidth": 0,
              "ticks": ""
             }
            },
            "type": "scattercarpet"
           }
          ],
          "scattergeo": [
           {
            "marker": {
             "colorbar": {
              "outlinewidth": 0,
              "ticks": ""
             }
            },
            "type": "scattergeo"
           }
          ],
          "scattergl": [
           {
            "marker": {
             "colorbar": {
              "outlinewidth": 0,
              "ticks": ""
             }
            },
            "type": "scattergl"
           }
          ],
          "scattermapbox": [
           {
            "marker": {
             "colorbar": {
              "outlinewidth": 0,
              "ticks": ""
             }
            },
            "type": "scattermapbox"
           }
          ],
          "scatterpolar": [
           {
            "marker": {
             "colorbar": {
              "outlinewidth": 0,
              "ticks": ""
             }
            },
            "type": "scatterpolar"
           }
          ],
          "scatterpolargl": [
           {
            "marker": {
             "colorbar": {
              "outlinewidth": 0,
              "ticks": ""
             }
            },
            "type": "scatterpolargl"
           }
          ],
          "scatterternary": [
           {
            "marker": {
             "colorbar": {
              "outlinewidth": 0,
              "ticks": ""
             }
            },
            "type": "scatterternary"
           }
          ],
          "surface": [
           {
            "colorbar": {
             "outlinewidth": 0,
             "ticks": ""
            },
            "colorscale": [
             [
              0,
              "#0d0887"
             ],
             [
              0.1111111111111111,
              "#46039f"
             ],
             [
              0.2222222222222222,
              "#7201a8"
             ],
             [
              0.3333333333333333,
              "#9c179e"
             ],
             [
              0.4444444444444444,
              "#bd3786"
             ],
             [
              0.5555555555555556,
              "#d8576b"
             ],
             [
              0.6666666666666666,
              "#ed7953"
             ],
             [
              0.7777777777777778,
              "#fb9f3a"
             ],
             [
              0.8888888888888888,
              "#fdca26"
             ],
             [
              1,
              "#f0f921"
             ]
            ],
            "type": "surface"
           }
          ],
          "table": [
           {
            "cells": {
             "fill": {
              "color": "#EBF0F8"
             },
             "line": {
              "color": "white"
             }
            },
            "header": {
             "fill": {
              "color": "#C8D4E3"
             },
             "line": {
              "color": "white"
             }
            },
            "type": "table"
           }
          ]
         },
         "layout": {
          "annotationdefaults": {
           "arrowcolor": "#2a3f5f",
           "arrowhead": 0,
           "arrowwidth": 1
          },
          "coloraxis": {
           "colorbar": {
            "outlinewidth": 0,
            "ticks": ""
           }
          },
          "colorscale": {
           "diverging": [
            [
             0,
             "#8e0152"
            ],
            [
             0.1,
             "#c51b7d"
            ],
            [
             0.2,
             "#de77ae"
            ],
            [
             0.3,
             "#f1b6da"
            ],
            [
             0.4,
             "#fde0ef"
            ],
            [
             0.5,
             "#f7f7f7"
            ],
            [
             0.6,
             "#e6f5d0"
            ],
            [
             0.7,
             "#b8e186"
            ],
            [
             0.8,
             "#7fbc41"
            ],
            [
             0.9,
             "#4d9221"
            ],
            [
             1,
             "#276419"
            ]
           ],
           "sequential": [
            [
             0,
             "#0d0887"
            ],
            [
             0.1111111111111111,
             "#46039f"
            ],
            [
             0.2222222222222222,
             "#7201a8"
            ],
            [
             0.3333333333333333,
             "#9c179e"
            ],
            [
             0.4444444444444444,
             "#bd3786"
            ],
            [
             0.5555555555555556,
             "#d8576b"
            ],
            [
             0.6666666666666666,
             "#ed7953"
            ],
            [
             0.7777777777777778,
             "#fb9f3a"
            ],
            [
             0.8888888888888888,
             "#fdca26"
            ],
            [
             1,
             "#f0f921"
            ]
           ],
           "sequentialminus": [
            [
             0,
             "#0d0887"
            ],
            [
             0.1111111111111111,
             "#46039f"
            ],
            [
             0.2222222222222222,
             "#7201a8"
            ],
            [
             0.3333333333333333,
             "#9c179e"
            ],
            [
             0.4444444444444444,
             "#bd3786"
            ],
            [
             0.5555555555555556,
             "#d8576b"
            ],
            [
             0.6666666666666666,
             "#ed7953"
            ],
            [
             0.7777777777777778,
             "#fb9f3a"
            ],
            [
             0.8888888888888888,
             "#fdca26"
            ],
            [
             1,
             "#f0f921"
            ]
           ]
          },
          "colorway": [
           "#636efa",
           "#EF553B",
           "#00cc96",
           "#ab63fa",
           "#FFA15A",
           "#19d3f3",
           "#FF6692",
           "#B6E880",
           "#FF97FF",
           "#FECB52"
          ],
          "font": {
           "color": "#2a3f5f"
          },
          "geo": {
           "bgcolor": "white",
           "lakecolor": "white",
           "landcolor": "#E5ECF6",
           "showlakes": true,
           "showland": true,
           "subunitcolor": "white"
          },
          "hoverlabel": {
           "align": "left"
          },
          "hovermode": "closest",
          "mapbox": {
           "style": "light"
          },
          "paper_bgcolor": "white",
          "plot_bgcolor": "#E5ECF6",
          "polar": {
           "angularaxis": {
            "gridcolor": "white",
            "linecolor": "white",
            "ticks": ""
           },
           "bgcolor": "#E5ECF6",
           "radialaxis": {
            "gridcolor": "white",
            "linecolor": "white",
            "ticks": ""
           }
          },
          "scene": {
           "xaxis": {
            "backgroundcolor": "#E5ECF6",
            "gridcolor": "white",
            "gridwidth": 2,
            "linecolor": "white",
            "showbackground": true,
            "ticks": "",
            "zerolinecolor": "white"
           },
           "yaxis": {
            "backgroundcolor": "#E5ECF6",
            "gridcolor": "white",
            "gridwidth": 2,
            "linecolor": "white",
            "showbackground": true,
            "ticks": "",
            "zerolinecolor": "white"
           },
           "zaxis": {
            "backgroundcolor": "#E5ECF6",
            "gridcolor": "white",
            "gridwidth": 2,
            "linecolor": "white",
            "showbackground": true,
            "ticks": "",
            "zerolinecolor": "white"
           }
          },
          "shapedefaults": {
           "line": {
            "color": "#2a3f5f"
           }
          },
          "ternary": {
           "aaxis": {
            "gridcolor": "white",
            "linecolor": "white",
            "ticks": ""
           },
           "baxis": {
            "gridcolor": "white",
            "linecolor": "white",
            "ticks": ""
           },
           "bgcolor": "#E5ECF6",
           "caxis": {
            "gridcolor": "white",
            "linecolor": "white",
            "ticks": ""
           }
          },
          "title": {
           "x": 0.05
          },
          "xaxis": {
           "automargin": true,
           "gridcolor": "white",
           "linecolor": "white",
           "ticks": "",
           "title": {
            "standoff": 15
           },
           "zerolinecolor": "white",
           "zerolinewidth": 2
          },
          "yaxis": {
           "automargin": true,
           "gridcolor": "white",
           "linecolor": "white",
           "ticks": "",
           "title": {
            "standoff": 15
           },
           "zerolinecolor": "white",
           "zerolinewidth": 2
          }
         }
        },
        "title": {
         "text": "Top 125 Player Salaries (MLB 2016)\t\t\tAverage: $16,584,727.48"
        },
        "xaxis": {
         "anchor": "y",
         "domain": [
          0,
          1
         ],
         "showticklabels": false,
         "title": {
          "text": "Player"
         }
        },
        "yaxis": {
         "anchor": "x",
         "domain": [
          0,
          1
         ],
         "title": {
          "text": "2016 Annual Salary (USD)"
         }
        }
       }
      },
      "text/html": [
       "<div>\n",
       "        \n",
       "        \n",
       "            <div id=\"1c29bc20-02ab-41ec-9fac-9a79dff4deeb\" class=\"plotly-graph-div\" style=\"height:800px; width:100%;\"></div>\n",
       "            <script type=\"text/javascript\">\n",
       "                require([\"plotly\"], function(Plotly) {\n",
       "                    window.PLOTLYENV=window.PLOTLYENV || {};\n",
       "                    \n",
       "                if (document.getElementById(\"1c29bc20-02ab-41ec-9fac-9a79dff4deeb\")) {\n",
       "                    Plotly.newPlot(\n",
       "                        '1c29bc20-02ab-41ec-9fac-9a79dff4deeb',\n",
       "                        [{\"alignmentgroup\": \"True\", \"hovertemplate\": \"Player=%{x}<br>2016 Annual Salary (USD)=%{marker.color}<extra></extra>\", \"legendgroup\": \"\", \"marker\": {\"color\": [34571429, 34000000, 30000000, 28410000, 28000000, 28000000, 25857143, 25000000, 25000000, 25000000, 24000000, 24000000, 23500000, 23125000, 23000000, 22750000, 22142857, 22125000, 22000000, 22000000, 21857143, 21750000, 21607143, 21571429, 21142857, 21118782, 21000000, 21000000, 20833333, 20777777, 20500000, 20200000, 20125000, 20000000, 20000000, 20000000, 20000000, 20000000, 19500000, 18500000, 18000000, 18000000, 18000000, 18000000, 18000000, 17600000, 17500000, 17428571, 17000000, 17000000, 16800000, 16333333, 16083333, 16050000, 16000000, 16000000, 16000000, 15833333, 15800000, 15800000, 15800000, 15750000, 15250000, 15000000, 15000000, 15000000, 15000000, 14250000, 14200000, 14000000, 14000000, 14000000, 14000000, 14000000, 14000000, 13666667, 13500000, 13500000, 13208333, 13200000, 13125000, 13000000, 13000000, 13000000, 13000000, 13000000, 13000000, 12666667, 12541667, 12500000, 12500000, 12500000, 12500000, 12359375, 12100000, 12100000, 12000000, 12000000, 12000000, 12000000, 12000000, 11666667, 11666667, 11650000, 11500000, 11500000, 11325000, 11271429, 11250000, 11250000, 11000000, 11000000, 11000000, 11000000, 11000000, 11000000, 10800000, 10700000, 10650000, 10550000, 10500000, 10400000, 10000000, 10000000, 10000000], \"coloraxis\": \"coloraxis\"}, \"name\": \"\", \"offsetgroup\": \"\", \"orientation\": \"v\", \"showlegend\": false, \"textposition\": \"auto\", \"type\": \"bar\", \"x\": [\"Kershaw, Clayton\", \"Greinke, Zack\", \"Price, David\", \"Hamilton, Josh\", \"Cabrera, Miguel\", \"Verlander, Justin\", \"Hernandez, Felix\", \"Howard, Ryan\", \"Pujols, Albert\", \"Sabathia, CC\", \"Cano, Robinson\", \"Fielder, Prince\", \"Hamels, Cole\", \"Teixeira, Mark\", \"Mauer, Joe\", \"Ramirez, Hanley\", \"Scherzer, Max\", \"Upton, Justin\", \"Reyes, Jose\", \"Tanaka, Masahiro\", \"Gonzalez, Adrian\", \"Kemp, Matt\", \"Crawford, Carl\", \"Werth, Jayson\", \"Ellsbury, Jacoby\", \"Davis, Chris\", \"Rodriguez, Alex\", \"Shields, James\", \"Cain, Matt\", \"Posey, Buster\", \"Wilson, C.J.\", \"Weaver, Jered\", \"Porcello, Rick\", \"Braun, Ryan\", \"Choo, Shin-Soo\", \"Tulowitzki, Troy\", \"Votto, Joey\", \"Wright, David\", \"Wainwright, Adam\", \"Pence, Hunter\", \"Bailey, Homer\", \"Beltre, Adrian\", \"Ethier, Andre\", \"Martinez, Victor\", \"Zimmermann, Jordan\", \"Sandoval, Pablo\", \"Heyward, Jason\", \"Gonzalez, Carlos\", \"Holliday, Matt\", \"McCann, Brian\", \"Sanchez, Anibal\", \"Jones, Adam\", \"Trout, Mike\", \"Upton, Melvin Jr.\", \"Granderson, Curtis\", \"Lackey, John\", \"Ortiz, David\", \"Cueto, Johnny\", \"Anderson, Brett\", \"Rasmus, Colby\", \"Wieters, Matt\", \"Danks, John\", \"Andrus, Elvis\", \"Beltran, Carlos\", \"Martin, Russell\", \"Peavy, Jake\", \"Swisher, Nick\", \"Cruz, Nelson\", \"Molina, Yadier\", \"Bautista, Jose\", \"Bourn, Michael\", \"Cabrera, Melky\", \"Kinsler, Ian\", \"Montero, Miguel\", \"Zimmerman, Ryan\", \"Liriano, Francisco\", \"Gardner, Brett\", \"Santana, Ervin\", \"McCutchen, Andrew\", \"Harrison, Matt\", \"Pedroia, Dustin\", \"Buchholz, Clay\", \"Headley, Chase\", \"Jackson, Edwin\", \"Jimenez, Ubaldo\", \"LaRoche, Adam\", \"Phillips, Brandon\", \"Kazmir, Scott\", \"Bruce, Jay\", \"De La Rosa, Jorge\", \"Garza, Matt\", \"McCarthy, Brandon\", \"Peralta, Jhonny\", \"Freeman, Freddie\", \"Gonzalez, Gio\", \"Longoria, Evan\", \"Dickey, R.A.\", \"Gordon, Alex\", \"Hill, Aaron\", \"Leake, Mike\", \"Nolasco, Ricky\", \"Abreu, Jose\", \"Butler, Billy\", \"Donaldson, Josh\", \"Estrada, Marco\", \"Garcia, Jaime\", \"Chapman, Aroldis\", \"Castillo, Rusney\", \"Kimbrel, Craig\", \"Pagan, Angel\", \"Crisp, Covelli\", \"Iwakuma, Hisashi\", \"Markakis, Nick\", \"Papelbon, Jonathan\", \"Prado, Martin\", \"Robertson, David\", \"Samardzija, Jeff\", \"Arrieta, Jake\", \"Jansen, Kenley\", \"Walker, Neil\", \"Zobrist, Ben\", \"Strasburg, Stephen\", \"Darvish, Yu\", \"Encarnacion, Edwin\", \"Happ, J.A.\"], \"xaxis\": \"x\", \"y\": [34571429, 34000000, 30000000, 28410000, 28000000, 28000000, 25857143, 25000000, 25000000, 25000000, 24000000, 24000000, 23500000, 23125000, 23000000, 22750000, 22142857, 22125000, 22000000, 22000000, 21857143, 21750000, 21607143, 21571429, 21142857, 21118782, 21000000, 21000000, 20833333, 20777777, 20500000, 20200000, 20125000, 20000000, 20000000, 20000000, 20000000, 20000000, 19500000, 18500000, 18000000, 18000000, 18000000, 18000000, 18000000, 17600000, 17500000, 17428571, 17000000, 17000000, 16800000, 16333333, 16083333, 16050000, 16000000, 16000000, 16000000, 15833333, 15800000, 15800000, 15800000, 15750000, 15250000, 15000000, 15000000, 15000000, 15000000, 14250000, 14200000, 14000000, 14000000, 14000000, 14000000, 14000000, 14000000, 13666667, 13500000, 13500000, 13208333, 13200000, 13125000, 13000000, 13000000, 13000000, 13000000, 13000000, 13000000, 12666667, 12541667, 12500000, 12500000, 12500000, 12500000, 12359375, 12100000, 12100000, 12000000, 12000000, 12000000, 12000000, 12000000, 11666667, 11666667, 11650000, 11500000, 11500000, 11325000, 11271429, 11250000, 11250000, 11000000, 11000000, 11000000, 11000000, 11000000, 11000000, 10800000, 10700000, 10650000, 10550000, 10500000, 10400000, 10000000, 10000000, 10000000], \"yaxis\": \"y\"}],\n",
       "                        {\"barmode\": \"relative\", \"coloraxis\": {\"colorbar\": {\"title\": {\"text\": \"2016 Annual Salary (USD)\"}}, \"colorscale\": [[0.0, \"rgb(237, 217, 163)\"], [0.16666666666666666, \"rgb(246, 169, 122)\"], [0.3333333333333333, \"rgb(250, 120, 118)\"], [0.5, \"rgb(234, 79, 136)\"], [0.6666666666666666, \"rgb(192, 54, 157)\"], [0.8333333333333334, \"rgb(135, 44, 162)\"], [1.0, \"rgb(75, 41, 145)\"]]}, \"height\": 800, \"legend\": {\"tracegroupgap\": 0}, \"template\": {\"data\": {\"bar\": [{\"error_x\": {\"color\": \"#2a3f5f\"}, \"error_y\": {\"color\": \"#2a3f5f\"}, \"marker\": {\"line\": {\"color\": \"#E5ECF6\", \"width\": 0.5}}, \"type\": \"bar\"}], \"barpolar\": [{\"marker\": {\"line\": {\"color\": \"#E5ECF6\", \"width\": 0.5}}, \"type\": \"barpolar\"}], \"carpet\": [{\"aaxis\": {\"endlinecolor\": \"#2a3f5f\", \"gridcolor\": \"white\", \"linecolor\": \"white\", \"minorgridcolor\": \"white\", \"startlinecolor\": \"#2a3f5f\"}, \"baxis\": {\"endlinecolor\": \"#2a3f5f\", \"gridcolor\": \"white\", \"linecolor\": \"white\", \"minorgridcolor\": \"white\", \"startlinecolor\": \"#2a3f5f\"}, \"type\": \"carpet\"}], \"choropleth\": [{\"colorbar\": {\"outlinewidth\": 0, \"ticks\": \"\"}, \"type\": \"choropleth\"}], \"contour\": [{\"colorbar\": {\"outlinewidth\": 0, \"ticks\": \"\"}, \"colorscale\": [[0.0, \"#0d0887\"], [0.1111111111111111, \"#46039f\"], [0.2222222222222222, \"#7201a8\"], [0.3333333333333333, \"#9c179e\"], [0.4444444444444444, \"#bd3786\"], [0.5555555555555556, \"#d8576b\"], [0.6666666666666666, \"#ed7953\"], [0.7777777777777778, \"#fb9f3a\"], [0.8888888888888888, \"#fdca26\"], [1.0, \"#f0f921\"]], \"type\": \"contour\"}], \"contourcarpet\": [{\"colorbar\": {\"outlinewidth\": 0, \"ticks\": \"\"}, \"type\": \"contourcarpet\"}], \"heatmap\": [{\"colorbar\": {\"outlinewidth\": 0, \"ticks\": \"\"}, \"colorscale\": [[0.0, \"#0d0887\"], [0.1111111111111111, \"#46039f\"], [0.2222222222222222, \"#7201a8\"], [0.3333333333333333, \"#9c179e\"], [0.4444444444444444, \"#bd3786\"], [0.5555555555555556, \"#d8576b\"], [0.6666666666666666, \"#ed7953\"], [0.7777777777777778, \"#fb9f3a\"], [0.8888888888888888, \"#fdca26\"], [1.0, \"#f0f921\"]], \"type\": \"heatmap\"}], \"heatmapgl\": [{\"colorbar\": {\"outlinewidth\": 0, \"ticks\": \"\"}, \"colorscale\": [[0.0, \"#0d0887\"], [0.1111111111111111, \"#46039f\"], [0.2222222222222222, \"#7201a8\"], [0.3333333333333333, \"#9c179e\"], [0.4444444444444444, \"#bd3786\"], [0.5555555555555556, \"#d8576b\"], [0.6666666666666666, \"#ed7953\"], [0.7777777777777778, \"#fb9f3a\"], [0.8888888888888888, \"#fdca26\"], [1.0, \"#f0f921\"]], \"type\": \"heatmapgl\"}], \"histogram\": [{\"marker\": {\"colorbar\": {\"outlinewidth\": 0, \"ticks\": \"\"}}, \"type\": \"histogram\"}], \"histogram2d\": [{\"colorbar\": {\"outlinewidth\": 0, \"ticks\": \"\"}, \"colorscale\": [[0.0, \"#0d0887\"], [0.1111111111111111, \"#46039f\"], [0.2222222222222222, \"#7201a8\"], [0.3333333333333333, \"#9c179e\"], [0.4444444444444444, \"#bd3786\"], [0.5555555555555556, \"#d8576b\"], [0.6666666666666666, \"#ed7953\"], [0.7777777777777778, \"#fb9f3a\"], [0.8888888888888888, \"#fdca26\"], [1.0, \"#f0f921\"]], \"type\": \"histogram2d\"}], \"histogram2dcontour\": [{\"colorbar\": {\"outlinewidth\": 0, \"ticks\": \"\"}, \"colorscale\": [[0.0, \"#0d0887\"], [0.1111111111111111, \"#46039f\"], [0.2222222222222222, \"#7201a8\"], [0.3333333333333333, \"#9c179e\"], [0.4444444444444444, \"#bd3786\"], [0.5555555555555556, \"#d8576b\"], [0.6666666666666666, \"#ed7953\"], [0.7777777777777778, \"#fb9f3a\"], [0.8888888888888888, \"#fdca26\"], [1.0, \"#f0f921\"]], \"type\": \"histogram2dcontour\"}], \"mesh3d\": [{\"colorbar\": {\"outlinewidth\": 0, \"ticks\": \"\"}, \"type\": \"mesh3d\"}], \"parcoords\": [{\"line\": {\"colorbar\": {\"outlinewidth\": 0, \"ticks\": \"\"}}, \"type\": \"parcoords\"}], \"pie\": [{\"automargin\": true, \"type\": \"pie\"}], \"scatter\": [{\"marker\": {\"colorbar\": {\"outlinewidth\": 0, \"ticks\": \"\"}}, \"type\": \"scatter\"}], \"scatter3d\": [{\"line\": {\"colorbar\": {\"outlinewidth\": 0, \"ticks\": \"\"}}, \"marker\": {\"colorbar\": {\"outlinewidth\": 0, \"ticks\": \"\"}}, \"type\": \"scatter3d\"}], \"scattercarpet\": [{\"marker\": {\"colorbar\": {\"outlinewidth\": 0, \"ticks\": \"\"}}, \"type\": \"scattercarpet\"}], \"scattergeo\": [{\"marker\": {\"colorbar\": {\"outlinewidth\": 0, \"ticks\": \"\"}}, \"type\": \"scattergeo\"}], \"scattergl\": [{\"marker\": {\"colorbar\": {\"outlinewidth\": 0, \"ticks\": \"\"}}, \"type\": \"scattergl\"}], \"scattermapbox\": [{\"marker\": {\"colorbar\": {\"outlinewidth\": 0, \"ticks\": \"\"}}, \"type\": \"scattermapbox\"}], \"scatterpolar\": [{\"marker\": {\"colorbar\": {\"outlinewidth\": 0, \"ticks\": \"\"}}, \"type\": \"scatterpolar\"}], \"scatterpolargl\": [{\"marker\": {\"colorbar\": {\"outlinewidth\": 0, \"ticks\": \"\"}}, \"type\": \"scatterpolargl\"}], \"scatterternary\": [{\"marker\": {\"colorbar\": {\"outlinewidth\": 0, \"ticks\": \"\"}}, \"type\": \"scatterternary\"}], \"surface\": [{\"colorbar\": {\"outlinewidth\": 0, \"ticks\": \"\"}, \"colorscale\": [[0.0, \"#0d0887\"], [0.1111111111111111, \"#46039f\"], [0.2222222222222222, \"#7201a8\"], [0.3333333333333333, \"#9c179e\"], [0.4444444444444444, \"#bd3786\"], [0.5555555555555556, \"#d8576b\"], [0.6666666666666666, \"#ed7953\"], [0.7777777777777778, \"#fb9f3a\"], [0.8888888888888888, \"#fdca26\"], [1.0, \"#f0f921\"]], \"type\": \"surface\"}], \"table\": [{\"cells\": {\"fill\": {\"color\": \"#EBF0F8\"}, \"line\": {\"color\": \"white\"}}, \"header\": {\"fill\": {\"color\": \"#C8D4E3\"}, \"line\": {\"color\": \"white\"}}, \"type\": \"table\"}]}, \"layout\": {\"annotationdefaults\": {\"arrowcolor\": \"#2a3f5f\", \"arrowhead\": 0, \"arrowwidth\": 1}, \"coloraxis\": {\"colorbar\": {\"outlinewidth\": 0, \"ticks\": \"\"}}, \"colorscale\": {\"diverging\": [[0, \"#8e0152\"], [0.1, \"#c51b7d\"], [0.2, \"#de77ae\"], [0.3, \"#f1b6da\"], [0.4, \"#fde0ef\"], [0.5, \"#f7f7f7\"], [0.6, \"#e6f5d0\"], [0.7, \"#b8e186\"], [0.8, \"#7fbc41\"], [0.9, \"#4d9221\"], [1, \"#276419\"]], \"sequential\": [[0.0, \"#0d0887\"], [0.1111111111111111, \"#46039f\"], [0.2222222222222222, \"#7201a8\"], [0.3333333333333333, \"#9c179e\"], [0.4444444444444444, \"#bd3786\"], [0.5555555555555556, \"#d8576b\"], [0.6666666666666666, \"#ed7953\"], [0.7777777777777778, \"#fb9f3a\"], [0.8888888888888888, \"#fdca26\"], [1.0, \"#f0f921\"]], \"sequentialminus\": [[0.0, \"#0d0887\"], [0.1111111111111111, \"#46039f\"], [0.2222222222222222, \"#7201a8\"], [0.3333333333333333, \"#9c179e\"], [0.4444444444444444, \"#bd3786\"], [0.5555555555555556, \"#d8576b\"], [0.6666666666666666, \"#ed7953\"], [0.7777777777777778, \"#fb9f3a\"], [0.8888888888888888, \"#fdca26\"], [1.0, \"#f0f921\"]]}, \"colorway\": [\"#636efa\", \"#EF553B\", \"#00cc96\", \"#ab63fa\", \"#FFA15A\", \"#19d3f3\", \"#FF6692\", \"#B6E880\", \"#FF97FF\", \"#FECB52\"], \"font\": {\"color\": \"#2a3f5f\"}, \"geo\": {\"bgcolor\": \"white\", \"lakecolor\": \"white\", \"landcolor\": \"#E5ECF6\", \"showlakes\": true, \"showland\": true, \"subunitcolor\": \"white\"}, \"hoverlabel\": {\"align\": \"left\"}, \"hovermode\": \"closest\", \"mapbox\": {\"style\": \"light\"}, \"paper_bgcolor\": \"white\", \"plot_bgcolor\": \"#E5ECF6\", \"polar\": {\"angularaxis\": {\"gridcolor\": \"white\", \"linecolor\": \"white\", \"ticks\": \"\"}, \"bgcolor\": \"#E5ECF6\", \"radialaxis\": {\"gridcolor\": \"white\", \"linecolor\": \"white\", \"ticks\": \"\"}}, \"scene\": {\"xaxis\": {\"backgroundcolor\": \"#E5ECF6\", \"gridcolor\": \"white\", \"gridwidth\": 2, \"linecolor\": \"white\", \"showbackground\": true, \"ticks\": \"\", \"zerolinecolor\": \"white\"}, \"yaxis\": {\"backgroundcolor\": \"#E5ECF6\", \"gridcolor\": \"white\", \"gridwidth\": 2, \"linecolor\": \"white\", \"showbackground\": true, \"ticks\": \"\", \"zerolinecolor\": \"white\"}, \"zaxis\": {\"backgroundcolor\": \"#E5ECF6\", \"gridcolor\": \"white\", \"gridwidth\": 2, \"linecolor\": \"white\", \"showbackground\": true, \"ticks\": \"\", \"zerolinecolor\": \"white\"}}, \"shapedefaults\": {\"line\": {\"color\": \"#2a3f5f\"}}, \"ternary\": {\"aaxis\": {\"gridcolor\": \"white\", \"linecolor\": \"white\", \"ticks\": \"\"}, \"baxis\": {\"gridcolor\": \"white\", \"linecolor\": \"white\", \"ticks\": \"\"}, \"bgcolor\": \"#E5ECF6\", \"caxis\": {\"gridcolor\": \"white\", \"linecolor\": \"white\", \"ticks\": \"\"}}, \"title\": {\"x\": 0.05}, \"xaxis\": {\"automargin\": true, \"gridcolor\": \"white\", \"linecolor\": \"white\", \"ticks\": \"\", \"title\": {\"standoff\": 15}, \"zerolinecolor\": \"white\", \"zerolinewidth\": 2}, \"yaxis\": {\"automargin\": true, \"gridcolor\": \"white\", \"linecolor\": \"white\", \"ticks\": \"\", \"title\": {\"standoff\": 15}, \"zerolinecolor\": \"white\", \"zerolinewidth\": 2}}}, \"title\": {\"text\": \"Top 125 Player Salaries (MLB 2016)\\t\\t\\tAverage: $16,584,727.48\"}, \"xaxis\": {\"anchor\": \"y\", \"domain\": [0.0, 1.0], \"showticklabels\": false, \"title\": {\"text\": \"Player\"}}, \"yaxis\": {\"anchor\": \"x\", \"domain\": [0.0, 1.0], \"title\": {\"text\": \"2016 Annual Salary (USD)\"}}},\n",
       "                        {\"responsive\": true}\n",
       "                    ).then(function(){\n",
       "                            \n",
       "var gd = document.getElementById('1c29bc20-02ab-41ec-9fac-9a79dff4deeb');\n",
       "var x = new MutationObserver(function (mutations, observer) {{\n",
       "        var display = window.getComputedStyle(gd).display;\n",
       "        if (!display || display === 'none') {{\n",
       "            console.log([gd, 'removed!']);\n",
       "            Plotly.purge(gd);\n",
       "            observer.disconnect();\n",
       "        }}\n",
       "}});\n",
       "\n",
       "// Listen for the removal of the full notebook cells\n",
       "var notebookContainer = gd.closest('#notebook-container');\n",
       "if (notebookContainer) {{\n",
       "    x.observe(notebookContainer, {childList: true});\n",
       "}}\n",
       "\n",
       "// Listen for the clearing of the current output cell\n",
       "var outputEl = gd.closest('.output');\n",
       "if (outputEl) {{\n",
       "    x.observe(outputEl, {childList: true});\n",
       "}}\n",
       "\n",
       "                        })\n",
       "                };\n",
       "                });\n",
       "            </script>\n",
       "        </div>"
      ]
     },
     "metadata": {},
     "output_type": "display_data"
    }
   ],
   "source": [
    "# Graphs the top 125 salaries and presents their average \n",
    "# Sources:\n",
    "# - Plotly Express documentation: https://plotly.com/python/bar-charts/\n",
    "# - Float-to-USD conversion code from: https://stackoverflow.com/questions/21208376/converting-float-to-dollars-and-cents\n",
    "# - Embedding HTML:  https://stackoverflow.com/questions/25698448/how-to-embed-html-into-ipython-output\n",
    "import plotly.express as px\n",
    "from IPython.core.display import display, HTML\n",
    "\n",
    "TOP_COUNT = 125\n",
    "\n",
    "if len(salaries) < TOP_COUNT:\n",
    "    display(HTML(\"<h1>Insufficient Data: only {} salaries found.\".format(len(salaries))))\n",
    "else:\n",
    "    average = sum([x.salary for x in salaries[:TOP_COUNT]]) / TOP_COUNT\n",
    "    average = \"${:,.2f}\".format(average)\n",
    "    \n",
    "    colors = [\"yellow\", ]\n",
    "    fig = px.bar(salaries[:TOP_COUNT], x=\"player\", y=\"salary\",\n",
    "                 color=\"salary\",\n",
    "                 color_continuous_scale=\"Agsunset_r\",\n",
    "                 height=800,\n",
    "                 labels={\"salary\": \"2016 Annual Salary (USD)\",\n",
    "                         \"player\": \"Player\"},\n",
    "                 title=\"Top 125 Player Salaries (MLB 2016)\\t\\t\\tAverage: {}\".format(average))\n",
    "    fig.update_xaxes(showticklabels=False)\n",
    "    fig.show()"
   ]
  },
  {
   "cell_type": "code",
   "execution_count": null,
   "metadata": {},
   "outputs": [],
   "source": []
  }
 ],
 "metadata": {
  "kernelspec": {
   "display_name": "Python 3",
   "language": "python",
   "name": "python3"
  },
  "language_info": {
   "codemirror_mode": {
    "name": "ipython",
    "version": 3
   },
   "file_extension": ".py",
   "mimetype": "text/x-python",
   "name": "python",
   "nbconvert_exporter": "python",
   "pygments_lexer": "ipython3",
   "version": "3.8.2"
  }
 },
 "nbformat": 4,
 "nbformat_minor": 4
}
